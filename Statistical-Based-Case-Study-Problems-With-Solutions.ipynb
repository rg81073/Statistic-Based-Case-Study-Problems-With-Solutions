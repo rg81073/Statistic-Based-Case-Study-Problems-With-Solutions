{
 "cells": [
  {
   "cell_type": "code",
   "execution_count": 1,
   "id": "fb9b995b",
   "metadata": {},
   "outputs": [
    {
     "name": "stdout",
     "output_type": "stream",
     "text": [
      "Mean sales for Region A: 11.8\n",
      "Mean sales for Region B: 20.2\n"
     ]
    }
   ],
   "source": [
    "# 1. Scenario: A company wants to analyze the sales performance of its products in different regions. They have collected the following data:\n",
    "#    Region A: [10, 15, 12, 8, 14]\n",
    "#    Region B: [18, 20, 16, 22, 25]\n",
    "#    Calculate the mean sales for each region.\n",
    "\n",
    "region_a = [10, 15, 12, 8, 14]\n",
    "region_b = [18, 20, 16, 22, 25]\n",
    "\n",
    "mean_a = sum(region_a) / len(region_a)\n",
    "mean_b = sum(region_b) / len(region_b)\n",
    "\n",
    "print(\"Mean sales for Region A:\", mean_a)\n",
    "print(\"Mean sales for Region B:\", mean_b)\n"
   ]
  },
  {
   "cell_type": "code",
   "execution_count": 2,
   "id": "d41bc6dc",
   "metadata": {},
   "outputs": [
    {
     "name": "stdout",
     "output_type": "stream",
     "text": [
      "Mode(s) of the survey responses: [4, 5]\n"
     ]
    }
   ],
   "source": [
    "# 2. Scenario: A survey is conducted to measure customer satisfaction on a scale of 1 to 5. The data collected is as follows:\n",
    "#    [4, 5, 2, 3, 5, 4, 3, 2, 4, 5]\n",
    "#    Calculate the mode of the survey responses.\n",
    "\n",
    "survey_responses = [4, 5, 2, 3, 5, 4, 3, 2, 4, 5]\n",
    "\n",
    "# Create a dictionary to count the occurrences of each response\n",
    "response_counts = {}\n",
    "for response in survey_responses:\n",
    "    if response in response_counts:\n",
    "        response_counts[response] += 1\n",
    "    else:\n",
    "        response_counts[response] = 1\n",
    "\n",
    "# Find the mode(s) by checking the maximum count(s)\n",
    "max_count = max(response_counts.values())\n",
    "modes = [response for response, count in response_counts.items() if count == max_count]\n",
    "\n",
    "print(\"Mode(s) of the survey responses:\", modes)\n"
   ]
  },
  {
   "cell_type": "code",
   "execution_count": 3,
   "id": "70008732",
   "metadata": {},
   "outputs": [
    {
     "name": "stdout",
     "output_type": "stream",
     "text": [
      "Median salary for Department A: 5750.0\n",
      "Median salary for Department B: 5500\n"
     ]
    }
   ],
   "source": [
    "# 3. Scenario: A company wants to compare the salaries of two departments. The salary data for Department A and Department B are as follows:\n",
    "#    Department A: [5000, 6000, 5500, 7000]\n",
    "#    Department B: [4500, 5500, 5800, 6000, 5200]\n",
    "#    Calculate the median salary for each department.\n",
    "\n",
    "department_a_salaries = [5000, 6000, 5500, 7000]\n",
    "department_b_salaries = [4500, 5500, 5800, 6000, 5200]\n",
    "\n",
    "# Sort the salary data\n",
    "department_a_salaries.sort()\n",
    "department_b_salaries.sort()\n",
    "\n",
    "# Calculate the median for Department A\n",
    "mid_a = len(department_a_salaries) // 2\n",
    "if len(department_a_salaries) % 2 == 0:\n",
    "    median_a = (department_a_salaries[mid_a - 1] + department_a_salaries[mid_a]) / 2\n",
    "else:\n",
    "    median_a = department_a_salaries[mid_a]\n",
    "\n",
    "# Calculate the median for Department B\n",
    "mid_b = len(department_b_salaries) // 2\n",
    "if len(department_b_salaries) % 2 == 0:\n",
    "    median_b = (department_b_salaries[mid_b - 1] + department_b_salaries[mid_b]) / 2\n",
    "else:\n",
    "    median_b = department_b_salaries[mid_b]\n",
    "\n",
    "print(\"Median salary for Department A:\", median_a)\n",
    "print(\"Median salary for Department B:\", median_b)\n"
   ]
  },
  {
   "cell_type": "code",
   "execution_count": 4,
   "id": "65340813",
   "metadata": {},
   "outputs": [
    {
     "name": "stdout",
     "output_type": "stream",
     "text": [
      "Range of stock prices: 1.3000000000000007\n"
     ]
    }
   ],
   "source": [
    "# 4. Scenario: A data analyst wants to determine the variability in the daily stock prices of a company. The data collected is as follows:\n",
    "#    [25.5, 24.8, 26.1, 25.3, 24.9]\n",
    "#    Calculate the range of the stock prices.\n",
    "\n",
    "stock_prices = [25.5, 24.8, 26.1, 25.3, 24.9]\n",
    "\n",
    "# Find the highest and lowest prices\n",
    "highest_price = max(stock_prices)\n",
    "lowest_price = min(stock_prices)\n",
    "\n",
    "# Calculate the range\n",
    "price_range = highest_price - lowest_price\n",
    "\n",
    "print(\"Range of stock prices:\", price_range)\n"
   ]
  },
  {
   "cell_type": "code",
   "execution_count": 5,
   "id": "add40c70",
   "metadata": {},
   "outputs": [
    {
     "name": "stdout",
     "output_type": "stream",
     "text": [
      "There is no significant difference in the mean scores between the two groups.\n",
      "T-statistic: 1.4312528946642733\n",
      "P-value: 0.19023970239078333\n"
     ]
    }
   ],
   "source": [
    "# 5. Scenario: A study is conducted to compare the performance of two different teaching methods. The test scores of the students in each group are as follows:\n",
    "#    Group A: [85, 90, 92, 88, 91]\n",
    "#    Group B: [82, 88, 90, 86, 87]\n",
    "#    Perform a t-test to determine if there is a significant difference in the mean scores between the two groups.\n",
    "\n",
    "\n",
    "import scipy.stats as stats\n",
    "\n",
    "group_a = [85, 90, 92, 88, 91]\n",
    "group_b = [82, 88, 90, 86, 87]\n",
    "\n",
    "# Perform t-test\n",
    "t_statistic, p_value = stats.ttest_ind(group_a, group_b)\n",
    "\n",
    "# Define significance level (alpha)\n",
    "alpha = 0.05\n",
    "\n",
    "# Check if the p-value is less than alpha\n",
    "if p_value < alpha:\n",
    "    print(\"There is a significant difference in the mean scores between the two groups.\")\n",
    "else:\n",
    "    print(\"There is no significant difference in the mean scores between the two groups.\")\n",
    "\n",
    "# Print t-statistic and p-value\n",
    "print(\"T-statistic:\", t_statistic)\n",
    "print(\"P-value:\", p_value)\n"
   ]
  },
  {
   "cell_type": "code",
   "execution_count": 6,
   "id": "982f49d2",
   "metadata": {},
   "outputs": [
    {
     "name": "stdout",
     "output_type": "stream",
     "text": [
      "Correlation Coefficient: 0.8757511375750132\n"
     ]
    }
   ],
   "source": [
    "# 6. Scenario: A company wants to analyze the relationship between advertising expenditure and sales. The data collected is as follows:\n",
    "#    Advertising Expenditure (in thousands): [10, 15, 12, 8, 14]\n",
    "#    Sales (in thousands): [25, 30, 28, 20, 26]\n",
    "#    Calculate the correlation coefficient between advertising expenditure and sales\n",
    "\n",
    "import numpy as np\n",
    "\n",
    "advertising_expenditure = [10, 15, 12, 8, 14]\n",
    "sales = [25, 30, 28, 20, 26]\n",
    "\n",
    "# Calculate correlation coefficient\n",
    "correlation_coefficient = np.corrcoef(advertising_expenditure, sales)[0, 1]\n",
    "\n",
    "# Print correlation coefficient\n",
    "print(\"Correlation Coefficient:\", correlation_coefficient)\n"
   ]
  },
  {
   "cell_type": "code",
   "execution_count": 7,
   "id": "884e46f0",
   "metadata": {},
   "outputs": [
    {
     "name": "stdout",
     "output_type": "stream",
     "text": [
      "Standard Deviation: 7.953949089757174\n"
     ]
    }
   ],
   "source": [
    "# 7. Scenario: A survey is conducted to measure the heights of a group of people. The data collected is as follows:\n",
    "#    [160, 170, 165, 155, 175, 180, 170]\n",
    "#    Calculate the standard deviation of the heights.\n",
    "\n",
    "\n",
    "import numpy as np\n",
    "\n",
    "heights = [160, 170, 165, 155, 175, 180, 170]\n",
    "\n",
    "# Calculate standard deviation\n",
    "standard_deviation = np.std(heights)\n",
    "\n",
    "# Print standard deviation\n",
    "print(\"Standard Deviation:\", standard_deviation)\n"
   ]
  },
  {
   "cell_type": "code",
   "execution_count": 8,
   "id": "e6e222f6",
   "metadata": {},
   "outputs": [
    {
     "name": "stdout",
     "output_type": "stream",
     "text": [
      "Predicted Job Satisfaction: 6.957446808510637\n"
     ]
    }
   ],
   "source": [
    "# 8. Scenario: A company wants to analyze the relationship between employee tenure and job satisfaction. The data collected is as follows:\n",
    "#    Employee Tenure (in years): [2, 3, 5, 4, 6, 2, 4]\n",
    "#    Job Satisfaction (on a scale of 1 to 10): [7, 8, 6, 9, 5, 7, 6]\n",
    "#    Perform a linear regression analysis to predict job satisfaction based on employee tenure.\n",
    "\n",
    "\n",
    "from sklearn.linear_model import LinearRegression\n",
    "import numpy as np\n",
    "\n",
    "tenure = np.array([2, 3, 5, 4, 6, 2, 4]).reshape(-1, 1)  # Reshape tenure to a 2D array\n",
    "satisfaction = np.array([7, 8, 6, 9, 5, 7, 6])\n",
    "\n",
    "# Create and fit the linear regression model\n",
    "model = LinearRegression()\n",
    "model.fit(tenure, satisfaction)\n",
    "\n",
    "# Predict job satisfaction for a new tenure value\n",
    "new_tenure = np.array([[3.5]])  # New tenure value to predict satisfaction for\n",
    "predicted_satisfaction = model.predict(new_tenure)\n",
    "\n",
    "# Print predicted job satisfaction\n",
    "print(\"Predicted Job Satisfaction:\", predicted_satisfaction[0])\n"
   ]
  },
  {
   "cell_type": "code",
   "execution_count": 9,
   "id": "e4b179ac",
   "metadata": {},
   "outputs": [
    {
     "name": "stdout",
     "output_type": "stream",
     "text": [
      "F-statistic: 16.0\n",
      "p-value: 0.003949772803445326\n"
     ]
    }
   ],
   "source": [
    "# 9. Scenario: A study is conducted to compare the effectiveness of two different medications. The recovery times of the patients in each group are as follows:\n",
    "#    Medication A: [10, 12, 14, 11, 13]\n",
    "#    Medication B: [15, 17, 16, 14, 18]\n",
    "#    Perform an analysis of variance (ANOVA) to determine if there is a significant difference in the mean recovery times between the two medications.\n",
    "\n",
    "from scipy.stats import f_oneway\n",
    "\n",
    "medication_a = [10, 12, 14, 11, 13]\n",
    "medication_b = [15, 17, 16, 14, 18]\n",
    "\n",
    "# Perform one-way ANOVA\n",
    "f_statistic, p_value = f_oneway(medication_a, medication_b)\n",
    "\n",
    "# Print the results\n",
    "print(\"F-statistic:\", f_statistic)\n",
    "print(\"p-value:\", p_value)\n"
   ]
  },
  {
   "cell_type": "code",
   "execution_count": 10,
   "id": "4b3ef541",
   "metadata": {},
   "outputs": [
    {
     "name": "stdout",
     "output_type": "stream",
     "text": [
      "75th percentile: 8.75\n"
     ]
    }
   ],
   "source": [
    "# 10. Scenario: A company wants to analyze customer feedback ratings on a scale of 1 to 10. The data collected is\n",
    "\n",
    "#  as follows:\n",
    "#     [8, 9, 7, 6, 8, 10, 9, 8, 7, 8]\n",
    "#     Calculate the 75th percentile of the feedback ratings.\n",
    "    \n",
    "import numpy as np\n",
    "\n",
    "ratings = [8, 9, 7, 6, 8, 10, 9, 8, 7, 8]\n",
    "\n",
    "# Calculate the 75th percentile\n",
    "percentile_75 = np.percentile(ratings, 75)\n",
    "\n",
    "# Print the result\n",
    "print(\"75th percentile:\", percentile_75)\n",
    "    \n",
    "    "
   ]
  },
  {
   "cell_type": "code",
   "execution_count": 11,
   "id": "50b54a40",
   "metadata": {},
   "outputs": [
    {
     "name": "stdout",
     "output_type": "stream",
     "text": [
      "T-statistic: 1.5126584522688367\n",
      "P-value: 0.19077595151110102\n"
     ]
    }
   ],
   "source": [
    "# 11. Scenario: A quality control department wants to test the weight consistency of a product. The weights of a sample of products are as follows:\n",
    "#     [10.2, 9.8, 10.0, 10.5, 10.3, 10.1]\n",
    "#     Perform a hypothesis test to determine if the mean weight differs significantly from 10 grams.\n",
    "\n",
    "\n",
    "from scipy import stats\n",
    "\n",
    "weights = [10.2, 9.8, 10.0, 10.5, 10.3, 10.1]\n",
    "population_mean = 10  # assumed population mean\n",
    "\n",
    "# Perform one-sample t-test\n",
    "t_statistic, p_value = stats.ttest_1samp(weights, population_mean)\n",
    "\n",
    "# Print the result\n",
    "print(\"T-statistic:\", t_statistic)\n",
    "print(\"P-value:\", p_value)\n"
   ]
  },
  {
   "cell_type": "code",
   "execution_count": 12,
   "id": "d99e53b7",
   "metadata": {},
   "outputs": [
    {
     "name": "stdout",
     "output_type": "stream",
     "text": [
      "Chi-square statistic: 6.110658166925435\n",
      "P-value: 0.19103526314060293\n"
     ]
    }
   ],
   "source": [
    "# 12. Scenario: A company wants to analyze the click-through rates of two different website designs. The number of clicks for each design is as follows:\n",
    "#     Design A: [100, 120, 110, 90, 95]\n",
    "#     Design B: [80, 85, 90, 95, 100]\n",
    "#     Perform a chi-square test to determine if there is a significant difference in the click-through rates between the two designs.\n",
    "\n",
    "from scipy import stats\n",
    "import numpy as np\n",
    "\n",
    "clicks_design_A = [100, 120, 110, 90, 95]\n",
    "clicks_design_B = [80, 85, 90, 95, 100]\n",
    "\n",
    "# Create observed frequency table\n",
    "observed = np.array([clicks_design_A, clicks_design_B])\n",
    "\n",
    "# Perform chi-square test\n",
    "chi2_statistic, p_value, _, _ = stats.chi2_contingency(observed)\n",
    "\n",
    "# Print the result\n",
    "print(\"Chi-square statistic:\", chi2_statistic)\n",
    "print(\"P-value:\", p_value)\n"
   ]
  },
  {
   "cell_type": "code",
   "execution_count": 13,
   "id": "29d7a506",
   "metadata": {},
   "outputs": [
    {
     "name": "stdout",
     "output_type": "stream",
     "text": [
      "Sample mean: 7.9\n",
      "Standard deviation: 1.1972189997378646\n",
      "Confidence interval: (7.043561120599888, 8.756438879400113)\n"
     ]
    }
   ],
   "source": [
    "# 13. Scenario: A survey is conducted to measure customer satisfaction with a product on a scale of 1 to 10. The data collected is as follows:\n",
    "#     [7, 9, 6, 8, 10, 7, 8, 9, 7, 8]\n",
    "#     Calculate the 95% confidence interval for the population mean satisfaction score.\n",
    "\n",
    "from scipy import stats\n",
    "import numpy as np\n",
    "\n",
    "satisfaction_scores = [7, 9, 6, 8, 10, 7, 8, 9, 7, 8]\n",
    "\n",
    "# Calculate sample mean and standard deviation\n",
    "sample_mean = np.mean(satisfaction_scores)\n",
    "sample_std = np.std(satisfaction_scores, ddof=1)  # ddof=1 for sample standard deviation\n",
    "\n",
    "# Calculate the t-value for the desired confidence level\n",
    "confidence_level = 0.95\n",
    "alpha = 1 - confidence_level\n",
    "t_value = stats.t.ppf(1 - alpha / 2, df=len(satisfaction_scores) - 1)\n",
    "\n",
    "# Calculate the margin of error\n",
    "margin_of_error = t_value * (sample_std / np.sqrt(len(satisfaction_scores)))\n",
    "\n",
    "# Calculate the confidence interval\n",
    "confidence_interval = (sample_mean - margin_of_error, sample_mean + margin_of_error)\n",
    "\n",
    "# Print the result\n",
    "print(\"Sample mean:\", sample_mean)\n",
    "print(\"Standard deviation:\", sample_std)\n",
    "print(\"Confidence interval:\", confidence_interval)\n"
   ]
  },
  {
   "cell_type": "code",
   "execution_count": 14,
   "id": "347f80b0",
   "metadata": {},
   "outputs": [
    {
     "name": "stdout",
     "output_type": "stream",
     "text": [
      "Slope: 0.5\n",
      "Intercept: -2.9000000000000004\n",
      "R-value: 0.6933752452815364\n",
      "P-value: 0.19417134561205843\n",
      "Standard error: 0.30000000000000004\n"
     ]
    }
   ],
   "source": [
    "# 14. Scenario: A company wants to analyze the effect of temperature on product performance. The data collected is as follows:\n",
    "#     Temperature (in degrees Celsius): [20, 22, 23, 19, 21]\n",
    "#     Performance (on a scale of 1 to 10): [8, 7, 9, 6, 8]\n",
    "#     Perform a simple linear regression to predict performance based on temperature.\n",
    "\n",
    "\n",
    "from scipy import stats\n",
    "import numpy as np\n",
    "\n",
    "temperature = [20, 22, 23, 19, 21]\n",
    "performance = [8, 7, 9, 6, 8]\n",
    "\n",
    "# Calculate the slope, intercept, r-value, p-value, and standard error of the slope\n",
    "slope, intercept, r_value, p_value, std_err = stats.linregress(temperature, performance)\n",
    "\n",
    "# Print the regression results\n",
    "print(\"Slope:\", slope)\n",
    "print(\"Intercept:\", intercept)\n",
    "print(\"R-value:\", r_value)\n",
    "print(\"P-value:\", p_value)\n",
    "print(\"Standard error:\", std_err)\n"
   ]
  },
  {
   "cell_type": "code",
   "execution_count": 15,
   "id": "9b0a5f2e",
   "metadata": {},
   "outputs": [
    {
     "name": "stdout",
     "output_type": "stream",
     "text": [
      "Test statistic: 17.0\n",
      "p-value: 0.380836480306712\n"
     ]
    }
   ],
   "source": [
    "# 15. Scenario: A study is conducted to compare the preferences of two groups of participants. The preferences are measured on a Likert scale from 1 to 5. The data collected is as follows:\n",
    "#     Group A: [4, 3, 5, 2, 4]\n",
    "#     Group B: [3, 2, 4, 3, 3]\n",
    "#     Perform a Mann-Whitney U test to determine if there is a significant difference in the median preferences between the two groups.\n",
    "\n",
    "\n",
    "from scipy import stats\n",
    "\n",
    "group_a = [4, 3, 5, 2, 4]\n",
    "group_b = [3, 2, 4, 3, 3]\n",
    "\n",
    "# Perform the Mann-Whitney U test\n",
    "statistic, p_value = stats.mannwhitneyu(group_a, group_b, alternative='two-sided')\n",
    "\n",
    "# Print the test statistic and p-value\n",
    "print(\"Test statistic:\", statistic)\n",
    "print(\"p-value:\", p_value)\n"
   ]
  },
  {
   "cell_type": "code",
   "execution_count": 16,
   "id": "afdeea09",
   "metadata": {},
   "outputs": [
    {
     "name": "stdout",
     "output_type": "stream",
     "text": [
      "Interquartile Range (IQR): 22.5\n"
     ]
    }
   ],
   "source": [
    "# 16. Scenario: A company wants to analyze the distribution of customer ages. The data collected is as follows:\n",
    "#     [25, 30, 35, 40, 45, 50, 55, 60, 65, 70]\n",
    "#     Calculate the interquartile range (IQR) of the ages.\n",
    "\n",
    "import numpy as np\n",
    "\n",
    "ages = [25, 30, 35, 40, 45, 50, 55, 60, 65, 70]\n",
    "\n",
    "# Calculate the first quartile (Q1)\n",
    "q1 = np.percentile(ages, 25)\n",
    "\n",
    "# Calculate the third quartile (Q3)\n",
    "q3 = np.percentile(ages, 75)\n",
    "\n",
    "# Calculate the interquartile range (IQR)\n",
    "iqr = q3 - q1\n",
    "\n",
    "# Print the IQR\n",
    "print(\"Interquartile Range (IQR):\", iqr)\n"
   ]
  },
  {
   "cell_type": "code",
   "execution_count": 17,
   "id": "f58801d1",
   "metadata": {},
   "outputs": [
    {
     "name": "stdout",
     "output_type": "stream",
     "text": [
      "Kruskal-Wallis Test Statistic: 9.696947935368053\n",
      "p-value: 0.007840333026249539\n"
     ]
    }
   ],
   "source": [
    "# 17. Scenario: A study is conducted to compare the performance of three different machine learning algorithms. The accuracy scores for each algorithm are as follows:\n",
    "#     Algorithm A: [0.85, 0.80, 0.82, 0.87, 0.83]\n",
    "#     Algorithm B: [0.78, 0.82, 0.84, 0.80, 0.79]\n",
    "#     Algorithm C: [0.90, 0.88, 0.89, 0.86, 0.87]\n",
    "#     Perform a Kruskal-Wallis test to determine if there is a significant difference in the median accuracy scores between the algorithms.\n",
    "\n",
    "\n",
    "from scipy.stats import kruskal\n",
    "\n",
    "algorithm_a = [0.85, 0.80, 0.82, 0.87, 0.83]\n",
    "algorithm_b = [0.78, 0.82, 0.84, 0.80, 0.79]\n",
    "algorithm_c = [0.90, 0.88, 0.89, 0.86, 0.87]\n",
    "\n",
    "# Perform Kruskal-Wallis test\n",
    "statistic, p_value = kruskal(algorithm_a, algorithm_b, algorithm_c)\n",
    "\n",
    "# Print the test statistic and p-value\n",
    "print(\"Kruskal-Wallis Test Statistic:\", statistic)\n",
    "print(\"p-value:\", p_value)\n"
   ]
  },
  {
   "cell_type": "code",
   "execution_count": 18,
   "id": "377e14c0",
   "metadata": {},
   "outputs": [
    {
     "name": "stdout",
     "output_type": "stream",
     "text": [
      "Regression Coefficients:\n",
      "Slope: -3.506097560975609\n",
      "Intercept: 136.3719512195122\n",
      "R-value: -0.8979991308594848\n",
      "P-value: 0.03850178234753776\n",
      "Standard Error: 0.9918303504036147\n"
     ]
    }
   ],
   "source": [
    "# 18. Scenario: A company wants to analyze the effect of price on sales. The data collected is as follows:\n",
    "#     Price (in dollars): [10, 15, 12, 8, 14]\n",
    "#     Sales: [100, 80, 90, 110, 95]\n",
    "#     Perform a simple linear regression to predict\n",
    "\n",
    "#  sales based on price.\n",
    "\n",
    "import numpy as np\n",
    "from scipy.stats import linregress\n",
    "\n",
    "price = [10, 15, 12, 8, 14]\n",
    "sales = [100, 80, 90, 110, 95]\n",
    "\n",
    "# Perform linear regression\n",
    "slope, intercept, r_value, p_value, std_err = linregress(price, sales)\n",
    "\n",
    "# Print the regression coefficients and statistics\n",
    "print(\"Regression Coefficients:\")\n",
    "print(\"Slope:\", slope)\n",
    "print(\"Intercept:\", intercept)\n",
    "print(\"R-value:\", r_value)\n",
    "print(\"P-value:\", p_value)\n",
    "print(\"Standard Error:\", std_err)\n"
   ]
  },
  {
   "cell_type": "code",
   "execution_count": 19,
   "id": "455b1c87",
   "metadata": {},
   "outputs": [
    {
     "name": "stdout",
     "output_type": "stream",
     "text": [
      "Standard Error: 0.28982753492378877\n"
     ]
    }
   ],
   "source": [
    "# 19. Scenario: A survey is conducted to measure the satisfaction levels of customers with a new product. The data collected is as follows:\n",
    "#     [7, 8, 9, 6, 8, 7, 9, 7, 8, 7]\n",
    "#     Calculate the standard error of the mean satisfaction score.\n",
    "\n",
    "import numpy as np\n",
    "\n",
    "satisfaction_scores = [7, 8, 9, 6, 8, 7, 9, 7, 8, 7]\n",
    "\n",
    "# Calculate the sample size\n",
    "sample_size = len(satisfaction_scores)\n",
    "\n",
    "# Calculate the standard deviation\n",
    "standard_deviation = np.std(satisfaction_scores)\n",
    "\n",
    "# Calculate the standard error\n",
    "standard_error = standard_deviation / np.sqrt(sample_size)\n",
    "\n",
    "# Print the result\n",
    "print(\"Standard Error:\", standard_error)\n"
   ]
  },
  {
   "cell_type": "code",
   "execution_count": 20,
   "id": "9cfe9c50",
   "metadata": {},
   "outputs": [
    {
     "name": "stdout",
     "output_type": "stream",
     "text": [
      "Regression Equation: Sales = 1.15 * Advertising Expenditure + 12.20\n"
     ]
    }
   ],
   "source": [
    "# 20. Scenario: A company wants to analyze the relationship between advertising expenditure and sales. The data collected is as follows:\n",
    "#     Advertising Expenditure (in thousands): [10, 15, 12, 8, 14]\n",
    "#     Sales (in thousands): [25, 30, 28, 20, 26]\n",
    "#     Perform a multiple regression analysis to predict sales based on advertising expenditure.\n",
    "\n",
    "import numpy as np\n",
    "from sklearn.linear_model import LinearRegression\n",
    "\n",
    "# Advertising expenditure (in thousands)\n",
    "advertising_expenditure = np.array([10, 15, 12, 8, 14]).reshape(-1, 1)\n",
    "\n",
    "# Sales (in thousands)\n",
    "sales = np.array([25, 30, 28, 20, 26])\n",
    "\n",
    "# Create a linear regression model\n",
    "regression_model = LinearRegression()\n",
    "\n",
    "# Fit the model to the data\n",
    "regression_model.fit(advertising_expenditure, sales)\n",
    "\n",
    "# Get the coefficients (slope and intercept)\n",
    "slope = regression_model.coef_[0]\n",
    "intercept = regression_model.intercept_\n",
    "\n",
    "# Print the regression equation\n",
    "print(\"Regression Equation: Sales = {:.2f} * Advertising Expenditure + {:.2f}\".format(slope, intercept))\n"
   ]
  },
  {
   "cell_type": "raw",
   "id": "0fbc26d3",
   "metadata": {},
   "source": [
    "Completed..!!"
   ]
  }
 ],
 "metadata": {
  "kernelspec": {
   "display_name": "Python 3 (ipykernel)",
   "language": "python",
   "name": "python3"
  },
  "language_info": {
   "codemirror_mode": {
    "name": "ipython",
    "version": 3
   },
   "file_extension": ".py",
   "mimetype": "text/x-python",
   "name": "python",
   "nbconvert_exporter": "python",
   "pygments_lexer": "ipython3",
   "version": "3.10.9"
  }
 },
 "nbformat": 4,
 "nbformat_minor": 5
}
